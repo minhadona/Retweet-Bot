{
 "cells": [
  {
   "cell_type": "markdown",
   "metadata": {},
   "source": [
    "<h1> KEYS </h1>"
   ]
  },
  {
   "cell_type": "code",
   "execution_count": null,
   "metadata": {},
   "outputs": [],
   "source": [
    "API_KEY = \"n434453345323323243\"\n",
    "API_SECRET = \"fa432342222222222222222222234324234234234324\"\n",
    "BEARER_TOKEN = \"A4324323434234234234342RlHlRQm0Z9oe5555555555555555552323233232323vl9l\"\n",
    "ACCESS_TOKEN = \"14555GGGG242GT4Ggggggggggsssss364819457-USWqazl9ef4444444444444222lY6\"\n",
    "ACCESS_TOKEN_SECRET = \"ggffgdgdgf2323432433333322fdgdgdsgdsdsgdsgdsg\""
   ]
  }
 ],
 "metadata": {
  "kernelspec": {
   "display_name": "Python 3",
   "language": "python",
   "name": "python3"
  },
  "language_info": {
   "codemirror_mode": {
    "name": "ipython",
    "version": 3
   },
   "file_extension": ".py",
   "mimetype": "text/x-python",
   "name": "python",
   "nbconvert_exporter": "python",
   "pygments_lexer": "ipython3",
   "version": "3.8.5"
  }
 },
 "nbformat": 4,
 "nbformat_minor": 4
}
