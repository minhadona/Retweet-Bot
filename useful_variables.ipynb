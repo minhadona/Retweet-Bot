{
 "cells": [
  {
   "cell_type": "code",
   "execution_count": 6,
   "metadata": {},
   "outputs": [],
   "source": [
    "import os\n",
    "\n",
    "current_directory = os.getcwd()  \n",
    "\n",
    "credentials_json = current_directory+'\\\\bot_files\\\\controls\\\\credentials.json'\n",
    "control_json = current_directory+'\\\\bot_files\\\\controls\\\\amount_of_tweets_from_today.json'\n",
    "attributes_json = current_directory+'\\\\bot_files\\\\controls\\\\attributes.json'\n",
    "\n",
    "logs_folder = current_directory+'\\\\bot_files\\\\logs'\n",
    "controls_folder = current_directory+'\\\\bot_files\\\\controls'\n",
    "exported_data_folder = current_directory+'\\\\bot_files\\\\exported_data'"
   ]
  },
  {
   "cell_type": "code",
   "execution_count": null,
   "metadata": {},
   "outputs": [],
   "source": []
  }
 ],
 "metadata": {
  "kernelspec": {
   "display_name": "Python 3",
   "language": "python",
   "name": "python3"
  },
  "language_info": {
   "codemirror_mode": {
    "name": "ipython",
    "version": 3
   },
   "file_extension": ".py",
   "mimetype": "text/x-python",
   "name": "python",
   "nbconvert_exporter": "python",
   "pygments_lexer": "ipython3",
   "version": "3.8.5"
  }
 },
 "nbformat": 4,
 "nbformat_minor": 4
}
